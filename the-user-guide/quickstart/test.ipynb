{
 "cells": [
  {
   "cell_type": "code",
   "execution_count": 1,
   "id": "76d571c7-e256-4b13-83b0-f3223acefc5a",
   "metadata": {},
   "outputs": [],
   "source": [
    "import requests"
   ]
  },
  {
   "cell_type": "code",
   "execution_count": 2,
   "id": "3b5a24b4-3b12-4bf1-8068-2305004a6a20",
   "metadata": {},
   "outputs": [
    {
     "data": {
      "text/plain": [
       "<Response [200]>"
      ]
     },
     "execution_count": 2,
     "metadata": {},
     "output_type": "execute_result"
    }
   ],
   "source": [
    "requests.get('https://api.github.com/events')"
   ]
  },
  {
   "cell_type": "code",
   "execution_count": 3,
   "id": "a9f15023-c21a-4d1d-8e42-2e93cf38aff7",
   "metadata": {},
   "outputs": [
    {
     "data": {
      "text/plain": [
       "<Response [200]>"
      ]
     },
     "execution_count": 3,
     "metadata": {},
     "output_type": "execute_result"
    }
   ],
   "source": [
    "requests.post('https://httpbin.org/post', data = {'key': 'value'})"
   ]
  },
  {
   "cell_type": "code",
   "execution_count": 4,
   "id": "d3901417-02de-4237-b148-e1adc95f7992",
   "metadata": {},
   "outputs": [
    {
     "data": {
      "text/plain": [
       "<Response [200]>"
      ]
     },
     "execution_count": 4,
     "metadata": {},
     "output_type": "execute_result"
    }
   ],
   "source": [
    "requests.put('https://httpbin.org/put', data = {'key': 'value'})"
   ]
  },
  {
   "cell_type": "code",
   "execution_count": 5,
   "id": "b2d30524-7fae-4503-9e98-9865a3011a45",
   "metadata": {},
   "outputs": [
    {
     "data": {
      "text/plain": [
       "<Response [200]>"
      ]
     },
     "execution_count": 5,
     "metadata": {},
     "output_type": "execute_result"
    }
   ],
   "source": [
    "requests.delete('https://httpbin.org/delete')"
   ]
  },
  {
   "cell_type": "code",
   "execution_count": 6,
   "id": "25b4a19d-cac5-4402-975d-4a2172d8ee3c",
   "metadata": {},
   "outputs": [
    {
     "data": {
      "text/plain": [
       "<Response [200]>"
      ]
     },
     "execution_count": 6,
     "metadata": {},
     "output_type": "execute_result"
    }
   ],
   "source": [
    "requests.head('https://httpbin.org/get')"
   ]
  },
  {
   "cell_type": "code",
   "execution_count": 7,
   "id": "832d8062-cb85-4f6b-8936-a977ba800852",
   "metadata": {},
   "outputs": [
    {
     "data": {
      "text/plain": [
       "<Response [200]>"
      ]
     },
     "execution_count": 7,
     "metadata": {},
     "output_type": "execute_result"
    }
   ],
   "source": [
    "requests.options('https://httpbin.org/get')"
   ]
  },
  {
   "cell_type": "code",
   "execution_count": 8,
   "id": "813cb016-dbc7-42f0-977c-2630bfe8b450",
   "metadata": {},
   "outputs": [
    {
     "data": {
      "text/plain": [
       "<Response [200]>"
      ]
     },
     "execution_count": 8,
     "metadata": {},
     "output_type": "execute_result"
    }
   ],
   "source": [
    "payload = {'key1': 'value1', 'key2': 'value2'}\n",
    "r = requests.get('https://httpbin.org/get', params = payload)\n",
    "r"
   ]
  },
  {
   "cell_type": "code",
   "execution_count": 9,
   "id": "9e3bdd25-6e3a-410d-8c2f-6a5f096ad5e7",
   "metadata": {},
   "outputs": [
    {
     "data": {
      "text/plain": [
       "'https://httpbin.org/get?key1=value1&key2=value2'"
      ]
     },
     "execution_count": 9,
     "metadata": {},
     "output_type": "execute_result"
    }
   ],
   "source": [
    "r.url"
   ]
  },
  {
   "cell_type": "code",
   "execution_count": 10,
   "id": "50c2b035-cef0-4ec4-b669-51f6c86f5805",
   "metadata": {},
   "outputs": [
    {
     "data": {
      "text/plain": [
       "'https://httpbin.org/get?key1=value1&key2=value2&key2=value3'"
      ]
     },
     "execution_count": 10,
     "metadata": {},
     "output_type": "execute_result"
    }
   ],
   "source": [
    "payload = {'key1': 'value1', 'key2': ['value2', 'value3']}\n",
    "r = requests.get('https://httpbin.org/get', params=payload)\n",
    "r.url"
   ]
  },
  {
   "cell_type": "code",
   "execution_count": 11,
   "id": "95f51a91-167b-4229-a79c-91dcf0861a0e",
   "metadata": {},
   "outputs": [
    {
     "data": {
      "text/plain": [
       "'[{\"id\":\"39118274479\",\"type\":\"PushEvent\",\"actor\":{\"id\":74008303,\"login\":\"apponboard2019\",\"display_login\":\"apponboard2019\",\"gravatar_id\":\"\",\"url\":\"https://api.github.com/users/apponboard2019\",\"avatar_url\":\"https://avatars.githubusercontent.com/u/74008303?\"},\"repo\":{\"id\":561366239,\"name\":\"apponboard2019/api\",\"url\":\"https://api.github.com/repos/apponboard2019/api\"},\"payload\":{\"repository_id\":561366239,\"push_id\":18789400176,\"size\":1,\"distinct_size\":1,\"ref\":\"refs/heads/master\",\"head\":\"c34a3b3ff735e1d07a0a9dcfbe5c6f1526fc2330\",\"before\":\"eacad5fe002f744624c5a8270045cd8fe956f129\",\"commits\":[{\"sha\":\"c34a3b3ff735e1d07a0a9dcfbe5c6f1526fc2330\",\"author\":{\"email\":\"74008303+apponboard2019@users.noreply.github.com\",\"name\":\"apponboard2019\"},\"message\":\"Update file via API\",\"distinct\":true,\"url\":\"https://api.github.com/repos/apponboard2019/api/commits/c34a3b3ff735e1d07a0a9dcfbe5c6f1526fc2330\"}]},\"public\":true,\"created_at\":\"2024-06-08T13:43:03Z\"},{\"id\":\"39118274489\",\"type\":\"CreateEvent\",\"actor\":{\"id\":15082'"
      ]
     },
     "execution_count": 11,
     "metadata": {},
     "output_type": "execute_result"
    }
   ],
   "source": [
    "r = requests.get('https://api.github.com/events')\n",
    "r.text[:1000]"
   ]
  },
  {
   "cell_type": "code",
   "execution_count": 12,
   "id": "413d4fd8-bae0-423a-97ab-cd18397d1460",
   "metadata": {},
   "outputs": [
    {
     "name": "stdout",
     "output_type": "stream",
     "text": [
      "utf-8\n"
     ]
    }
   ],
   "source": [
    "print(r.encoding)\n",
    "r.encoding = 'ISO-8859-1'"
   ]
  },
  {
   "cell_type": "code",
   "execution_count": 13,
   "id": "d4cc43b4-6a0a-4439-8dbe-99c2663d42c8",
   "metadata": {},
   "outputs": [
    {
     "data": {
      "text/plain": [
       "b'[{\"id\":\"39118274479\",\"type\":\"PushEvent\",\"actor\":{\"id\":74008303,\"login\":\"apponboard2019\",\"display_login\":\"apponboard2019\",\"gravatar_id\":\"\",\"url\":\"https://api.github.com/users/apponboard2019\",\"avatar_url\":\"https://avatars.githubusercontent.com/u/74008303?\"},\"repo\":{\"id\":561366239,\"name\":\"apponboard2019/api\",\"url\":\"https://api.github.com/repos/apponboard2019/api\"},\"payload\":{\"repository_id\":561366239,\"push_id\":18789400176,\"size\":1,\"distinct_size\":1,\"ref\":\"refs/heads/master\",\"head\":\"c34a3b3ff735e1d07a0a9dcfbe5c6f1526fc2330\",\"before\":\"eacad5fe002f744624c5a8270045cd8fe956f129\",\"commits\":[{\"sha\":\"c34a3b3ff735e1d07a0a9dcfbe5c6f1526fc2330\",\"author\":{\"email\":\"74008303+apponboard2019@users.noreply.github.com\",\"name\":\"apponboard2019\"},\"message\":\"Update file via API\",\"distinct\":true,\"url\":\"https://api.github.com/repos/apponboard2019/api/commits/c34a3b3ff735e1d07a0a9dcfbe5c6f1526fc2330\"}]},\"public\":true,\"created_at\":\"2024-06-08T13:43:03Z\"},{\"id\":\"39118274489\",\"type\":\"CreateEvent\",\"actor\":{\"id\":15082'"
      ]
     },
     "execution_count": 13,
     "metadata": {},
     "output_type": "execute_result"
    }
   ],
   "source": [
    "r.content[:1000]"
   ]
  },
  {
   "cell_type": "code",
   "execution_count": 14,
   "id": "f0123d9c-d7bc-43cc-931a-c599ce858666",
   "metadata": {},
   "outputs": [
    {
     "ename": "ModuleNotFoundError",
     "evalue": "No module named 'PIL'",
     "output_type": "error",
     "traceback": [
      "\u001b[0;31m---------------------------------------------------------------------------\u001b[0m",
      "\u001b[0;31mModuleNotFoundError\u001b[0m                       Traceback (most recent call last)",
      "Cell \u001b[0;32mIn[14], line 1\u001b[0m\n\u001b[0;32m----> 1\u001b[0m \u001b[38;5;28;01mfrom\u001b[39;00m \u001b[38;5;21;01mPIL\u001b[39;00m \u001b[38;5;28;01mimport\u001b[39;00m Image\n\u001b[1;32m      2\u001b[0m \u001b[38;5;28;01mfrom\u001b[39;00m \u001b[38;5;21;01mio\u001b[39;00m \u001b[38;5;28;01mimport\u001b[39;00m BytesIO\n\u001b[1;32m      4\u001b[0m Image\u001b[38;5;241m.\u001b[39mopen(BytesIO(r\u001b[38;5;241m.\u001b[39mcontent))\n",
      "\u001b[0;31mModuleNotFoundError\u001b[0m: No module named 'PIL'"
     ]
    }
   ],
   "source": [
    "from PIL import Image\n",
    "from io import BytesIO\n",
    "\n",
    "Image.open(BytesIO(r.content))"
   ]
  },
  {
   "cell_type": "code",
   "execution_count": 15,
   "id": "9ef3ab34-ecc1-4e63-a681-746415ec51cb",
   "metadata": {},
   "outputs": [
    {
     "data": {
      "text/plain": [
       "{'id': '39118280893',\n",
       " 'type': 'WatchEvent',\n",
       " 'actor': {'id': 22067924,\n",
       "  'login': 'watchingfun',\n",
       "  'display_login': 'watchingfun',\n",
       "  'gravatar_id': '',\n",
       "  'url': 'https://api.github.com/users/watchingfun',\n",
       "  'avatar_url': 'https://avatars.githubusercontent.com/u/22067924?'},\n",
       " 'repo': {'id': 698328708,\n",
       "  'name': 'EasyTier/EasyTier',\n",
       "  'url': 'https://api.github.com/repos/EasyTier/EasyTier'},\n",
       " 'payload': {'action': 'started'},\n",
       " 'public': True,\n",
       " 'created_at': '2024-06-08T13:43:51Z',\n",
       " 'org': {'id': 169161851,\n",
       "  'login': 'EasyTier',\n",
       "  'gravatar_id': '',\n",
       "  'url': 'https://api.github.com/orgs/EasyTier',\n",
       "  'avatar_url': 'https://avatars.githubusercontent.com/u/169161851?'}}"
      ]
     },
     "execution_count": 15,
     "metadata": {},
     "output_type": "execute_result"
    }
   ],
   "source": [
    "r = requests.get('https://api.github.com/events')\n",
    "r.json()[0]"
   ]
  },
  {
   "cell_type": "code",
   "execution_count": 16,
   "id": "ece4e29a-c5f0-450a-a1d3-2bb1f689bc32",
   "metadata": {},
   "outputs": [
    {
     "name": "stdout",
     "output_type": "stream",
     "text": [
      "<urllib3.response.HTTPResponse object at 0x7e98a09e0760>\n"
     ]
    },
    {
     "data": {
      "text/plain": [
       "b'\\x1f\\x8b\\x08\\x00\\x00\\x00\\x00\\x00\\x00\\x03'"
      ]
     },
     "execution_count": 16,
     "metadata": {},
     "output_type": "execute_result"
    }
   ],
   "source": [
    "r = requests.get('https://api.github.com/events', stream = True)\n",
    "print(r.raw)\n",
    "r.raw.read(10)"
   ]
  },
  {
   "cell_type": "code",
   "execution_count": 17,
   "id": "c6cec615-6865-4e47-bb34-3171ffab03cc",
   "metadata": {},
   "outputs": [
    {
     "data": {
      "text/plain": [
       "'{\\n  \"args\": {}, \\n  \"data\": \"\", \\n  \"files\": {}, \\n  \"form\": {\\n    \"key1\": \"value1\", \\n    \"key2\": \"value2\"\\n  }, \\n  \"headers\": {\\n    \"Accept\": \"*/*\", \\n    \"Accept-Encoding\": \"gzip, deflate\", \\n    \"Content-Length\": \"23\", \\n    \"Content-Type\": \"application/x-www-form-urlencoded\", \\n    \"Host\": \"httpbin.org\", \\n    \"User-Agent\": \"python-requests/2.32.3\", \\n    \"X-Amzn-Trace-Id\": \"Root=1-66646144-0b8e342e40fc26ac666e1a7e\"\\n  }, \\n  \"json\": null, \\n  \"origin\": \"155.230.84.155\", \\n  \"url\": \"https://httpbin.org/post\"\\n}\\n'"
      ]
     },
     "execution_count": 17,
     "metadata": {},
     "output_type": "execute_result"
    }
   ],
   "source": [
    "payload = {'key1': 'value1', 'key2': 'value2'}\n",
    "r = requests.post('https://httpbin.org/post', data = payload)\n",
    "r.text"
   ]
  },
  {
   "cell_type": "code",
   "execution_count": 18,
   "id": "bafcc131-7294-4a5f-8b69-40898c64c688",
   "metadata": {},
   "outputs": [
    {
     "name": "stdout",
     "output_type": "stream",
     "text": [
      "{\n",
      "  \"args\": {}, \n",
      "  \"data\": \"\", \n",
      "  \"files\": {}, \n",
      "  \"form\": {\n",
      "    \"key1\": [\n",
      "      \"value1\", \n",
      "      \"value2\"\n",
      "    ]\n",
      "  }, \n",
      "  \"headers\": {\n",
      "    \"Accept\": \"*/*\", \n",
      "    \"Accept-Encoding\": \"gzip, deflate\", \n",
      "    \"Content-Length\": \"23\", \n",
      "    \"Content-Type\": \"application/x-www-form-urlencoded\", \n",
      "    \"Host\": \"httpbin.org\", \n",
      "    \"User-Agent\": \"python-requests/2.32.3\", \n",
      "    \"X-Amzn-Trace-Id\": \"Root=1-66646146-2d67d51700f09b143a94b705\"\n",
      "  }, \n",
      "  \"json\": null, \n",
      "  \"origin\": \"155.230.84.155\", \n",
      "  \"url\": \"https://httpbin.org/post\"\n",
      "}\n",
      "\n"
     ]
    },
    {
     "data": {
      "text/plain": [
       "False"
      ]
     },
     "execution_count": 18,
     "metadata": {},
     "output_type": "execute_result"
    }
   ],
   "source": [
    "payload_tuples = [('key1', 'value1'), ('key1', 'value2')]\n",
    "r1 = requests.post('https://httpbin.org/post', data=payload_tuples)\n",
    "payload_dict = {'key1': ['value1', 'value2']}\n",
    "r2 = requests.post('https://httpbin.org/post', data=payload_dict)\n",
    "print(r1.text)\n",
    "r1.text == r2.text"
   ]
  },
  {
   "cell_type": "code",
   "execution_count": 19,
   "id": "4ebd280e-be9d-47d8-82db-033eef3c14fa",
   "metadata": {},
   "outputs": [
    {
     "data": {
      "text/plain": [
       "'{\\n  \"args\": {}, \\n  \"data\": \"\", \\n  \"files\": {}, \\n  \"form\": {\\n    \"key1\": [\\n      \"value1\", \\n      \"value2\"\\n    ]\\n  }, \\n  \"headers\": {\\n    \"Accept\": \"*/*\", \\n    \"Accept-Encoding\": \"gzip, deflate\", \\n    \"Content-Length\": \"23\", \\n    \"Content-Type\": \"application/x-www-form-urlencoded\", \\n    \"Host\": \"httpbin.org\", \\n    \"User-Agent\": \"python-requests/2.32.3\", \\n    \"X-Amzn-Trace-Id\": \"Root=1-66646147-701f6d5a25577bcd6976ab22\"\\n  }, \\n  \"json\": null, \\n  \"origin\": \"155.230.84.155\", \\n  \"url\": \"https://httpbin.org/post\"\\n}\\n'"
      ]
     },
     "execution_count": 19,
     "metadata": {},
     "output_type": "execute_result"
    }
   ],
   "source": [
    "r2.text"
   ]
  },
  {
   "cell_type": "code",
   "execution_count": 20,
   "id": "250aac1d-046c-411f-a790-a8e8fc878846",
   "metadata": {},
   "outputs": [
    {
     "data": {
      "text/plain": [
       "200"
      ]
     },
     "execution_count": 20,
     "metadata": {},
     "output_type": "execute_result"
    }
   ],
   "source": [
    "r = requests.get('https://httpbin.org/get')\n",
    "r.status_code"
   ]
  },
  {
   "cell_type": "code",
   "execution_count": 21,
   "id": "82477c0c-30ea-4053-a0ef-4b8bb3ce5980",
   "metadata": {},
   "outputs": [
    {
     "data": {
      "text/plain": [
       "True"
      ]
     },
     "execution_count": 21,
     "metadata": {},
     "output_type": "execute_result"
    }
   ],
   "source": [
    "r.status_code == requests.codes.ok"
   ]
  },
  {
   "cell_type": "code",
   "execution_count": 22,
   "id": "141ed22e-55ef-44eb-8de8-84ee030fbb42",
   "metadata": {},
   "outputs": [
    {
     "name": "stdout",
     "output_type": "stream",
     "text": [
      "404\n"
     ]
    },
    {
     "ename": "HTTPError",
     "evalue": "404 Client Error: NOT FOUND for url: https://httpbin.org/status/404",
     "output_type": "error",
     "traceback": [
      "\u001b[0;31m---------------------------------------------------------------------------\u001b[0m",
      "\u001b[0;31mHTTPError\u001b[0m                                 Traceback (most recent call last)",
      "Cell \u001b[0;32mIn[22], line 3\u001b[0m\n\u001b[1;32m      1\u001b[0m bad_r \u001b[38;5;241m=\u001b[39m requests\u001b[38;5;241m.\u001b[39mget(\u001b[38;5;124m'\u001b[39m\u001b[38;5;124mhttps://httpbin.org/status/404\u001b[39m\u001b[38;5;124m'\u001b[39m)\n\u001b[1;32m      2\u001b[0m \u001b[38;5;28mprint\u001b[39m(bad_r\u001b[38;5;241m.\u001b[39mstatus_code)\n\u001b[0;32m----> 3\u001b[0m \u001b[43mbad_r\u001b[49m\u001b[38;5;241;43m.\u001b[39;49m\u001b[43mraise_for_status\u001b[49m\u001b[43m(\u001b[49m\u001b[43m)\u001b[49m\n",
      "File \u001b[0;32m~/git/requests-docs/.venv/lib/python3.12/site-packages/requests/models.py:1024\u001b[0m, in \u001b[0;36mResponse.raise_for_status\u001b[0;34m(self)\u001b[0m\n\u001b[1;32m   1019\u001b[0m     http_error_msg \u001b[38;5;241m=\u001b[39m (\n\u001b[1;32m   1020\u001b[0m         \u001b[38;5;124mf\u001b[39m\u001b[38;5;124m\"\u001b[39m\u001b[38;5;132;01m{\u001b[39;00m\u001b[38;5;28mself\u001b[39m\u001b[38;5;241m.\u001b[39mstatus_code\u001b[38;5;132;01m}\u001b[39;00m\u001b[38;5;124m Server Error: \u001b[39m\u001b[38;5;132;01m{\u001b[39;00mreason\u001b[38;5;132;01m}\u001b[39;00m\u001b[38;5;124m for url: \u001b[39m\u001b[38;5;132;01m{\u001b[39;00m\u001b[38;5;28mself\u001b[39m\u001b[38;5;241m.\u001b[39murl\u001b[38;5;132;01m}\u001b[39;00m\u001b[38;5;124m\"\u001b[39m\n\u001b[1;32m   1021\u001b[0m     )\n\u001b[1;32m   1023\u001b[0m \u001b[38;5;28;01mif\u001b[39;00m http_error_msg:\n\u001b[0;32m-> 1024\u001b[0m     \u001b[38;5;28;01mraise\u001b[39;00m HTTPError(http_error_msg, response\u001b[38;5;241m=\u001b[39m\u001b[38;5;28mself\u001b[39m)\n",
      "\u001b[0;31mHTTPError\u001b[0m: 404 Client Error: NOT FOUND for url: https://httpbin.org/status/404"
     ]
    }
   ],
   "source": [
    "bad_r = requests.get('https://httpbin.org/status/404')\n",
    "print(bad_r.status_code)\n",
    "bad_r.raise_for_status()"
   ]
  },
  {
   "cell_type": "code",
   "execution_count": 23,
   "id": "caaa8992-f04b-4c29-8711-ccaf52939d4d",
   "metadata": {},
   "outputs": [
    {
     "name": "stdout",
     "output_type": "stream",
     "text": [
      "None\n"
     ]
    }
   ],
   "source": [
    "print(r.raise_for_status())"
   ]
  },
  {
   "cell_type": "code",
   "execution_count": 24,
   "id": "f30c6b86-d716-483f-9014-d84b80992faf",
   "metadata": {},
   "outputs": [
    {
     "data": {
      "text/plain": [
       "{'Date': 'Sat, 08 Jun 2024 13:48:56 GMT', 'Content-Type': 'application/json', 'Content-Length': '308', 'Connection': 'keep-alive', 'Server': 'gunicorn/19.9.0', 'Access-Control-Allow-Origin': '*', 'Access-Control-Allow-Credentials': 'true'}"
      ]
     },
     "execution_count": 24,
     "metadata": {},
     "output_type": "execute_result"
    }
   ],
   "source": [
    "r.headers"
   ]
  },
  {
   "cell_type": "code",
   "execution_count": 25,
   "id": "4b49d680-9b2a-4706-81dd-c0662e51a780",
   "metadata": {},
   "outputs": [
    {
     "name": "stdout",
     "output_type": "stream",
     "text": [
      "application/json\n"
     ]
    },
    {
     "data": {
      "text/plain": [
       "'application/json'"
      ]
     },
     "execution_count": 25,
     "metadata": {},
     "output_type": "execute_result"
    }
   ],
   "source": [
    "print(r.headers['Content-Type'])\n",
    "r.headers.get('content-type')"
   ]
  }
 ],
 "metadata": {
  "kernelspec": {
   "display_name": "Python 3 (ipykernel)",
   "language": "python",
   "name": "python3"
  },
  "language_info": {
   "codemirror_mode": {
    "name": "ipython",
    "version": 3
   },
   "file_extension": ".py",
   "mimetype": "text/x-python",
   "name": "python",
   "nbconvert_exporter": "python",
   "pygments_lexer": "ipython3",
   "version": "3.12.3"
  }
 },
 "nbformat": 4,
 "nbformat_minor": 5
}
